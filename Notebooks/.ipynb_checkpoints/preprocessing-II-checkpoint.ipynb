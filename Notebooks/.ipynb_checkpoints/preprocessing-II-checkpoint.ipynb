{
 "cells": [
  {
   "cell_type": "markdown",
   "metadata": {},
   "source": [
    "# Preprocessing - Part II\n",
    "\n",
    "### Steps included:\n",
    "* reading song & artist combined data\n",
    "* cleaning data\n",
    "* generating cosine similarity matrix\n",
    "* generating top 10 recommenxations for each song\n",
    "* saving recommendations as a matrix for fast loading"
   ]
  },
  {
   "cell_type": "markdown",
   "metadata": {},
   "source": [
    "#### Importing libraries"
   ]
  },
  {
   "cell_type": "code",
   "execution_count": null,
   "metadata": {},
   "outputs": [],
   "source": [
    "import pandas as pd\n",
    "import numpy as np\n",
    "import matplotlib.pyplot as plt\n",
    "import seaborn as sns\n",
    "from IPython.display import set_matplotlib_formats\n",
    "set_matplotlib_formats('retina')"
   ]
  },
  {
   "cell_type": "markdown",
   "metadata": {},
   "source": [
    "#### Loading songs artist combined file"
   ]
  },
  {
   "cell_type": "code",
   "execution_count": null,
   "metadata": {},
   "outputs": [],
   "source": [
    "df = pd.read_csv(\"song_artist.csv\")\n",
    "df.head()"
   ]
  },
  {
   "cell_type": "markdown",
   "metadata": {},
   "source": [
    "#### Separating numerical attributes & meta"
   ]
  },
  {
   "cell_type": "code",
   "execution_count": null,
   "metadata": {},
   "outputs": [],
   "source": [
    "song_id = df[[\"id\", \"name\", \"artists\", \"spotify_id\"]]"
   ]
  },
  {
   "cell_type": "code",
   "execution_count": null,
   "metadata": {},
   "outputs": [],
   "source": [
    "data = df.drop([\"id\", \"name\", \"artists\", \"acousticness\", \"danceability\", \"spotify_id\"], axis = 1).copy()\n",
    "data.head()"
   ]
  },
  {
   "cell_type": "markdown",
   "metadata": {},
   "source": [
    "#### Corelation between numerical attributes"
   ]
  },
  {
   "cell_type": "code",
   "execution_count": null,
   "metadata": {},
   "outputs": [],
   "source": [
    "plt.figure(figsize=(16, 10))\n",
    "sns.heatmap(data.corr(), annot=True)"
   ]
  },
  {
   "cell_type": "markdown",
   "metadata": {},
   "source": [
    "#### Limiting dataset to 40,000 songs because of memory contraints"
   ]
  },
  {
   "cell_type": "code",
   "execution_count": null,
   "metadata": {},
   "outputs": [],
   "source": [
    "meta = data.values\n",
    "meta = meta[:40000, :]\n",
    "meta.shape"
   ]
  },
  {
   "cell_type": "markdown",
   "metadata": {},
   "source": [
    "#### Generating cosine similarity matrix\n",
    "The following three cells will take significant time to execute"
   ]
  },
  {
   "cell_type": "code",
   "execution_count": null,
   "metadata": {},
   "outputs": [],
   "source": [
    "from sklearn.metrics.pairwise import cosine_similarity\n",
    "\n",
    "cosine_sim = cosine_similarity(meta, meta)"
   ]
  },
  {
   "cell_type": "code",
   "execution_count": null,
   "metadata": {},
   "outputs": [],
   "source": [
    "np.save(\"sim.npy\", cosine_sim)"
   ]
  },
  {
   "cell_type": "code",
   "execution_count": null,
   "metadata": {},
   "outputs": [],
   "source": [
    "song_id[\"search\"] = song_id[\"name\"] + ' ' + song_id[\"artists\"]\n",
    "song_id.to_csv(\"id2.csv\", index=False)"
   ]
  },
  {
   "cell_type": "markdown",
   "metadata": {},
   "source": [
    "#### Finding top 10 similar songs for a given song and saving them in a matrix"
   ]
  },
  {
   "cell_type": "code",
   "execution_count": null,
   "metadata": {},
   "outputs": [],
   "source": [
    "def get_recommendations(idx, cosine_sim):\n",
    "    sim_scores = list(enumerate(cosine_sim[idx]))\n",
    "\n",
    "    # Sort the songs based on the similarity scores\n",
    "    sim_scores = sorted(sim_scores, key=lambda x: x[1], reverse=True)\n",
    "\n",
    "    # Get the scores of the 10 most similar songs\n",
    "    sim_scores = sim_scores[1:11]\n",
    "    sim_scores.sort()\n",
    "    # Get the song indices\n",
    "    song_index = [i[0] for i in sim_scores]\n",
    "    song_index = song_index\n",
    "    \n",
    "    # Return the top 10 most similar songs\n",
    "    return song_index\n",
    "\n",
    "\n",
    "sim = np.load(\"sim.npy\")\n",
    "all_res = np.zeros((1, 10))\n",
    "\n",
    "for i in range(0, 40000):\n",
    "    rec_list = get_recommendations(i, sim)\n",
    "    rec_array = np.array(rec_list)\n",
    "    rec_array = rec_array.reshape((1, 10))\n",
    "    rec_array = rec_array.astype(int)\n",
    "    all_res = np.append(all_res, rec_array, axis=0)\n",
    "    print(\"saved for:\" + str(i))\n",
    "\n",
    "all_res = np.delete(all_res, 0, axis=0)\n",
    "np.save(\"light.npy\", all_res)"
   ]
  },
  {
   "cell_type": "markdown",
   "metadata": {},
   "source": [
    "#### light.npy is a matrix where i<sup>th</sup> row will have 10 columns, each having the song_id for the recommended song"
   ]
  }
 ],
 "metadata": {
  "kernelspec": {
   "display_name": "Python 3",
   "language": "python",
   "name": "python3"
  },
  "language_info": {
   "codemirror_mode": {
    "name": "ipython",
    "version": 3
   },
   "file_extension": ".py",
   "mimetype": "text/x-python",
   "name": "python",
   "nbconvert_exporter": "python",
   "pygments_lexer": "ipython3",
   "version": "3.8.4"
  }
 },
 "nbformat": 4,
 "nbformat_minor": 4
}
